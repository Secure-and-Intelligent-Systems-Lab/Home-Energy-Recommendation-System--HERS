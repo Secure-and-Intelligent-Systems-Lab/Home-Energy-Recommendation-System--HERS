{
 "cells": [
  {
   "cell_type": "markdown",
   "metadata": {
    "id": "r7Mkq25U84uV"
   },
   "source": [
    "### Libraries"
   ]
  },
  {
   "cell_type": "code",
   "execution_count": 3,
   "metadata": {},
   "outputs": [],
   "source": [
    "import pandas as pd\n",
    "import numpy as np\n",
    "import math \n",
    "import random\n",
    "import matplotlib.pyplot as plt\n",
    "import csv"
   ]
  },
  {
   "cell_type": "code",
   "execution_count": 4,
   "metadata": {},
   "outputs": [],
   "source": [
    "padding=50; # non-informative addded characters to a string to the ends of it for formatting purposes."
   ]
  },
  {
   "cell_type": "markdown",
   "metadata": {},
   "source": [
    "### TOU for long Island NYISO (https://www.nyiso.com/energy-market-operational-data)"
   ]
  },
  {
   "cell_type": "code",
   "execution_count": 7,
   "metadata": {},
   "outputs": [
    {
     "data": {
      "image/png": "[encoded data removed]",
      "text/plain": [
       "<Figure size 432x288 with 1 Axes>"
      ]
     },
     "metadata": {
      "needs_background": "light"
     },
     "output_type": "display_data"
    }
   ],
   "source": [
    "price=[[29.37,27.73,25.62,25.76,28.00,31.04,33.92,38.31,39.66,41.65,40.64,38.45,\n",
    "      35.10,33.75,33.17,33.07,33.54,36.88,44.80,50.00,41.64,39.25,33.81,32.21],# March 19.2021(friday)\n",
    "    [25.12,23.58,21.85,21.00,21.75,22.67,25.57,28.38,28.06,25.39,26.91,25.53,\n",
    "     24.34,24.10,24.24,26.51,33.29,39.64,54.85,43.11,37.45,37.41,32.11,27.59]];# March 13.2021(sunday)\n",
    "\n",
    "tou= np.array(price)/200\n",
    "\n",
    "plt.plot(tou[0],label = 'Weekday')\n",
    "plt.plot(tou[1],label = 'Weekend')\n",
    "plt.legend()\n",
    "\n",
    "tou\n",
    "\n",
    "f1 = open('tou.csv', 'w', newline='')\n",
    "with f1:\n",
    "    writer = csv.writer(f1)\n",
    "    writer.writerows(tou) "
   ]
  },
  {
   "cell_type": "markdown",
   "metadata": {},
   "source": [
    "### Activity label for the 2 residents of Home 2, from ARAS dataset"
   ]
  },
  {
   "cell_type": "code",
   "execution_count": 5,
   "metadata": {},
   "outputs": [],
   "source": [
    "activity= np.zeros((2, 43200+padding), dtype=int); # row represents the 2 residents, column represents the 15 minute time slots in a month\n",
    "activity[:,0:43200]=np.array(pd.read_csv('House_B_flattened_activity.csv', header= None), dtype=int);\n",
    "activity[:,43200]=11; ## the additional minute of the month is sleep(=11)\n",
    "\n",
    "current_activity= np.zeros((2,30*96+padding), dtype=int) \n",
    "previous_activity=  np.zeros((2,30*96+padding), dtype=int) \n",
    "duration=  np.zeros((2,30*96+padding), dtype=int) # current activity duration\n",
    "\n",
    "                ### Resident-1\n",
    "\n",
    "# Initial assumption\n",
    "current_activity[0,0]= 10; # Having snack\n",
    "previous_activity[0,0]= 17;# Using Internet \n",
    "duration[0,0]= 6;  \n",
    "\n",
    "for t in range(30*96):\n",
    "\tnum_change=0;    \n",
    "\tfor m in range(15):        \n",
    "\t\tif activity[0,t*15+15-m]!=activity[0,t*15+14-m]:\n",
    "\t\t\tnum_change+=1;  \n",
    "\t\t\tif num_change==1:  # the resident changed his activity once during the last 15 minutes           \n",
    "\t\t\t\tcurrent_activity[0,t+1]=activity[0,t*15+14-m];\n",
    "\t\t\t\tprevious_activity[0,t+1]=current_activity[0,t];                \n",
    "\t\t\t\tduration[0,t+1]=m+1;\n",
    "\t\t\tif num_change==2:  # the resident changed his activity twice during the last 15 minutes                     \n",
    "\t\t\t\tprevious_activity[0,t+1]=activity[0,t*15+14-m];                \n",
    "\tif num_change==0: # the resident continued the same activity for the last 15 minutes\n",
    "\t\tcurrent_activity[0,t+1]=current_activity[0,t];\n",
    "\t\tprevious_activity[0,t+1]=previous_activity[0,t];                \n",
    "\t\tduration[0,t+1]=duration[0,t]+15;\n",
    "        \n",
    "        \n",
    "                ### Resident-2\n",
    "\n",
    "# Initial assumption\n",
    "current_activity[1,0]= 10; #Talking on the phone\n",
    "previous_activity[1,0]= 17;#Using Internet \n",
    "duration[1,0]= 8;  \n",
    "for t in range(30*96): \n",
    "\tnum_change=0;    \n",
    "\tfor m in range(15):        \n",
    "\t\tif activity[1,t*15+15-m]!=activity[1,t*15+14-m]:\n",
    "\t\t\tnum_change+=1;  \n",
    "\t\t\tif num_change==1:            \n",
    "\t\t\t\tcurrent_activity[1,t+1]=activity[1,t*15+14-m];\n",
    "\t\t\t\tprevious_activity[1,t+1]=current_activity[1,t];                \n",
    "\t\t\t\tduration[1,t+1]=m+1;\n",
    "\t\t\tif num_change==2:            \n",
    "\t\t\t\tprevious_activity[1,t+1]=activity[1,t*15+14-m];                \n",
    "\tif num_change==0:\n",
    "\t\tcurrent_activity[1,t+1]=current_activity[1,t];\n",
    "\t\tprevious_activity[1,t+1]=previous_activity[1,t];                \n",
    "\t\tduration[1,t+1]=duration[1,t]+15;    \n",
    "        \n",
    "f2 = open('current_activity.csv', 'w', newline='')\n",
    "with f2:\n",
    "    writer = csv.writer(f2)\n",
    "    writer.writerows(current_activity)  \n",
    "\n",
    "f3 = open('duration.csv', 'w', newline='')\n",
    "with f3:\n",
    "    writer = csv.writer(f3)\n",
    "    writer.writerows(duration)     \n",
    "    \n",
    "f4 = open('previous_activity.csv', 'w', newline='')\n",
    "with f4:\n",
    "    writer = csv.writer(f4)\n",
    "    writer.writerows(previous_activity) "
   ]
  },
  {
   "cell_type": "markdown",
   "metadata": {},
   "source": [
    "### AC Data"
   ]
  },
  {
   "cell_type": "code",
   "execution_count": 31,
   "metadata": {},
   "outputs": [],
   "source": [
    "AC_status= np.zeros((1,30*96+padding),dtype=int)\n",
    "for t in range(30*96):\n",
    "\tnum_change=0;    \n",
    "\tfor m in range(15):            \n",
    "\t\tif activity[0,t*15+15]== 2 and activity[1,t*15+15]== 2: \n",
    "\t\t\tAC_status[0,t]=0\n",
    "\t\telse: AC_status[0,t]=1 # AC remains in active status if any of the resident is at home \n",
    "            \n",
    "f5 = open('AC_status.csv', 'w', newline='')\n",
    "with f5:\n",
    "    writer = csv.writer(f5)\n",
    "    writer.writerows(AC_status)             "
   ]
  },
  {
   "cell_type": "markdown",
   "metadata": {},
   "source": [
    "### DW data"
   ]
  },
  {
   "cell_type": "code",
   "execution_count": 19,
   "metadata": {},
   "outputs": [],
   "source": [
    "DW_activation_number=  np.zeros((1,30*96+padding), dtype=int) # Dishwash Time Schedule\n",
    "DW_activation_time=  np.zeros((1,30), dtype=int) # DW activation events; DW events <30 in a month\n",
    "wash_dish=0; # Counter for dishwashing events\n",
    "cooking=np.array([3, 5, 7]) # labels for cooking breakfast, lunch and dinner respectively\n",
    "dish_delay= np.zeros(30, dtype=int) # delay between having dinner and start dishwash\n",
    "for d in range(30):\n",
    "\tcook=0; # initialize number of cooking events 0 at the start of a day\n",
    "\tdinner=0; # initialize number of residents had dinner 0 at the start of a day\n",
    "    \n",
    "\tfor t in range(96*15):\n",
    "    \n",
    "\t\tif (activity[0,d*96*15+t]==cooking).any() or (activity[1,d*96*15+t]==cooking).any(): # if any cooking happened \n",
    "\t\t\tcook=1;\n",
    "\t\t\tbreak\n",
    "                \n",
    "\tfor u in range(96*15-t):\n",
    "    \n",
    "\t\tif activity[0,d*96*15+t+u]==8 or activity[0,d*96*15+t+u]==8: # if any dinner done at home \n",
    "\t\t\tdinner=1;\n",
    "\t\t\tbreak \n",
    "\tif cook==1 and dinner==1: # Dishwashing happens if cooking and dinner both happened in a day\n",
    "\t\twash_dish+=1 \n",
    "        \n",
    "\tdish_delay[wash_dish-1]=np.random.poisson(4)  ## People donot always start diswash after dinner,poisson mean 4=(1hour)              \n",
    "\tDW_activation_number[0,int(np.floor((t+u)/15))+1+dish_delay[wash_dish-1]+d*96:]=wash_dish  # Dishwash Time Schedule          \n",
    "\tDW_activation_time[0,wash_dish]=int(np.floor((t+u)/15))+1+dish_delay[wash_dish-1]+d*96\n",
    "import csv\n",
    "f6 = open('DW_activation_number.csv', 'w', newline='')\n",
    "with f6:\n",
    "    writer = csv.writer(f6)\n",
    "    writer.writerows(DW_activation_number) \n",
    "    \n",
    "f7 = open('DW_activation_time.csv', 'w', newline='')\n",
    "with f7:\n",
    "    writer = csv.writer(f7)\n",
    "    writer.writerows(DW_activation_time)    "
   ]
  },
  {
   "cell_type": "markdown",
   "metadata": {},
   "source": [
    "### Cloth W&D data"
   ]
  },
  {
   "cell_type": "code",
   "execution_count": 29,
   "metadata": {},
   "outputs": [],
   "source": [
    "shower_index=  np.zeros((1,30*96+padding), dtype=int) # Shower Time Schedule\n",
    "shower_count=0 # Counter for total shower done by the residents\n",
    "\n",
    "WD_activation_number=  np.zeros((1,30*96+padding), dtype=int) # WD Time Schedule\n",
    "wash_count=0 # Counter for Cloth Washing events\n",
    "wash_delay= np.zeros(30, dtype=int) # delay between cloth fill and start cloth wash\n",
    "WD_activation_time=  np.zeros((1,30), dtype=int) # WD in active status duration; WD events <30 in a month\n",
    "\n",
    "for t in range(30*96):\n",
    "    \n",
    "\tfor m in range(15):        \n",
    "\t\tif (activity[0,t*15+m]==14 and activity[0,t*15]!=14) or (activity[1,t*15+m]==14 and activity[1,t*15]!=14):\n",
    "            # and statement confirms it does not count the same shower between 2 interval as twice            \n",
    "\t\t\tshower_count+=1;\n",
    "\t\t\tif shower_count%(random.randint(2, 3))==0 and  shower_count/(random.randint(2, 3))>0: #WD occurs after second or third bath (with equal probability) from the  previous  laundry\n",
    "\t\t\t\twash_count+=1; \n",
    "\t\t\t\twash_delay[wash_count-1]=np.random.poisson(2)\n",
    "\t\t\tbreak\n",
    "            \n",
    "\tshower_index[0,t+1]=shower_count            \n",
    "\tWD_activation_number[0,t+1+wash_delay[wash_count-1]]=wash_count \n",
    "\tWD_activation_time[0,wash_count]=  t+1+wash_delay[wash_count-1]               \n",
    "    \n",
    "import csv\n",
    "f8 = open('WD_activation_number.csv', 'w', newline='')\n",
    "with f8:\n",
    "    writer = csv.writer(f8)\n",
    "    writer.writerows(WD_activation_number) \n",
    "    \n",
    "f9 = open('shower_index.csv', 'w', newline='')\n",
    "with f9:\n",
    "    writer = csv.writer(f9)\n",
    "    writer.writerows(shower_index) \n",
    "    \n",
    "f10= open('WD_activation_time.csv', 'w', newline='')\n",
    "with f10:\n",
    "    writer = csv.writer(f10)\n",
    "    writer.writerows(WD_activation_time)     "
   ]
  },
  {
   "cell_type": "markdown",
   "metadata": {},
   "source": [
    "### EV battery"
   ]
  },
  {
   "cell_type": "code",
   "execution_count": 7,
   "metadata": {},
   "outputs": [],
   "source": [
    "ev_in0_out1 = np.zeros((1,30*96*15+padding))\n",
    "man_out=0\n",
    "for t in range(30*96*15):   \n",
    "\tif activity[1,t]==2: # 2nd resident's activity[1,time]           \n",
    "\t\tman_out+= 1; \n",
    "\t\tif man_out==15: # resident going out for less than 15 minutes is considered no vehicle use\n",
    "\t\t\tev_in0_out1[0,(t-14):(t+1)]=1\n",
    "\t\tif  man_out>15: \n",
    "\t\t\tev_in0_out1[0,t]=1\n",
    "\tif activity[1,t]!=2: \n",
    "\t\tman_out= 0;"
   ]
  },
  {
   "cell_type": "code",
   "execution_count": 23,
   "metadata": {},
   "outputs": [],
   "source": [
    "mu=0.33; #driving time coefficient alpha\n",
    "sigma=0.1;\n",
    "trip_time= np.zeros((1,22), dtype=int) # 22 trips happened (pre-estimated)\n",
    "ev_battery_usage=  np.zeros((1,22))  \n",
    "travel= np.zeros((1,22), dtype=int); # office or leasure trip=0, travel=1\n",
    "travel_prep= np.zeros((1,30*96), dtype=int);\n",
    "\n",
    "#Initialize\n",
    "trip=0\n",
    "battery=0.5; # 50% charged battery at initialization\n",
    "battery_use=0\n",
    "last_charge=0\n",
    "car_out=0\n",
    "\n",
    "for t in range(30*96*15-1):\n",
    "   \n",
    "\tif ev_in0_out1[0,t]==1:         \n",
    "\t\tcar_out+= 1; \n",
    "\t\tif ev_in0_out1[0,t+1]!=1:\n",
    "\t\t\ttrip_time[0,trip]= car_out \n",
    "\t\t\tif car_out<600 and (t%(1440*7)==0 or t%(1440*7)==6): # weekeend , leisure trip\n",
    "\t\t\t\tbattery_use= (np.random.normal(mu, sigma)*(car_out/60)*30)/220;  \n",
    "\t\t\t\tev_battery_usage[0,trip]=battery_use \n",
    "\t\t\t\tbattery-= battery_use \n",
    "                \n",
    "\t\t\tif car_out > 599 and (t%(1440*7)==0 or t%(1440*7)==6): # weekeend , travel\n",
    "\t\t\t\tbattery= np.random.normal(0.2, 0.05); # EV returns with 20% mean battery charge\n",
    "\t\t\t\tev_battery_usage[0,trip]=0.9-battery                                 \n",
    "\t\t\t\ttravel[0,trip]=1; # travel flag\n",
    "\t\t\t\ttravel_prep[0, int((t-car_out)/15)-24:int((t-car_out)/15)]=1   \n",
    "                \n",
    "\t\t\tif car_out<480 and (t%(1440*7)!=0 and t%(1440*7)!=6): # weekday , leisure trip\n",
    "\t\t\t\tbattery_use= (np.random.normal(mu, sigma)*(car_out/60)*30)/220;            \n",
    "\t\t\t\tbattery-= battery_use \n",
    "\t\t\t\tev_battery_usage[0,trip]=battery_use \n",
    "               \n",
    "\t\t\tif 479<car_out<600 and (t%(1440*7)!=0 and t%(1440*7)!=6): # weekday , office trip\n",
    "\t\t\t\tbattery_use= (40)/220;            \n",
    "\t\t\t\tbattery-= battery_use \n",
    "\t\t\t\tev_battery_usage[0,trip]=battery_use \n",
    "                \n",
    "\t\t\tif 599<car_out<960 and (t%(1440*7)!=0 and t%(1440*7)!=6): # weekday , office+leisure trip\n",
    "\t\t\t\tbattery_use= (40+ np.random.normal(mu, sigma)*((car_out-600)/60)*30)/220;            \n",
    "\t\t\t\tbattery-= battery_use \n",
    "\t\t\t\tev_battery_usage[0,trip]=battery_use \n",
    "               \n",
    "\t\t\tif car_out>959 and (t%(1440*7)!=0 and t%(1440*7)!=6): # weekday , travel\n",
    "\t\t\t\tbattery= np.random.normal(0.2, 0.05); # EV returns with 20% mean battery charge\n",
    "\t\t\t\tev_battery_usage[0,trip]=0.9-battery_use \n",
    "\t\t\t\ttravel[0,trip]=1; # travel flag\n",
    "\t\t\t\ttravel_prep[0, int((t-car_out)/15)-24:int((t-car_out)/15)]=1   \n",
    "                \n",
    "\t\t\tcar_out= 0; \n",
    "\t\t\ttrip+=1 "
   ]
  },
  {
   "cell_type": "code",
   "execution_count": 24,
   "metadata": {},
   "outputs": [],
   "source": [
    "f11 = open('ev_status.csv', 'w', newline='')\n",
    "with f11:\n",
    "    writer = csv.writer(f11)\n",
    "    writer.writerows(ev_in0_out1) \n",
    "    \n",
    "     \n",
    "f12 = open('trip_time.csv', 'w', newline='')\n",
    "with f12:\n",
    "    writer = csv.writer(f12)\n",
    "    writer.writerows(trip_time)    \n",
    "    \n",
    "f13 = open('ev_battery_usage.csv', 'w', newline='')\n",
    "with f13:\n",
    "    writer = csv.writer(f13)\n",
    "    writer.writerows(ev_battery_usage)  \n",
    "\n",
    "f14 = open('travel_prep.csv', 'w', newline='')\n",
    "with f14:\n",
    "    writer = csv.writer(f14)\n",
    "    writer.writerows(travel_prep) \n"
   ]
  },
  {
   "cell_type": "code",
   "execution_count": null,
   "metadata": {},
   "outputs": [],
   "source": []
  }
 ],
 "metadata": {
  "colab": {
   "collapsed_sections": [],
   "name": "hospital_rank_a2c.ipynb",
   "provenance": []
  },
  "kernelspec": {
   "display_name": "Python 3",
   "language": "python",
   "name": "python3"
  },
  "language_info": {
   "codemirror_mode": {
    "name": "ipython",
    "version": 3
   },
   "file_extension": ".py",
   "mimetype": "text/x-python",
   "name": "python",
   "nbconvert_exporter": "python",
   "pygments_lexer": "ipython3",
   "version": "3.6.8"
  }
 },
 "nbformat": 4,
 "nbformat_minor": 1
}
