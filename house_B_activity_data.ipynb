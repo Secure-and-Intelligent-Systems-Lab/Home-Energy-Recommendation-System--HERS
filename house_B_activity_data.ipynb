{
 "cells": [
  {
   "cell_type": "markdown",
   "metadata": {
    "id": "r7Mkq25U84uV"
   },
   "source": [
    "### Libraries"
   ]
  },
  {
   "cell_type": "code",
   "execution_count": 2,
   "metadata": {},
   "outputs": [],
   "source": [
    "import pandas as pd\n",
    "import numpy as np"
   ]
  },
  {
   "cell_type": "markdown",
   "metadata": {},
   "source": [
    "### Per minute data of the activity of the two residents at the house B from the ARAS dataset "
   ]
  },
  {
   "cell_type": "code",
   "execution_count": 5,
   "metadata": {},
   "outputs": [],
   "source": [
    "Data= [];\n",
    "for i in range (1,31):\n",
    "\n",
    "\tData.append(np.array(pd.read_csv('DAY_{}.txt'.format(i), sep=\" \", header=None)));\n",
    "\n",
    "Data=np.array(Data)\n",
    "flattened_data= np.zeros((2,30*1440));# House B flattened minute data\n",
    "\n",
    "for d in range (0,30):\n",
    "\tfor m in range (0,1440):\n",
    "\t\tflattened_data[0,d*1440+m]= Data[d,m*60,20] # Resident-1 activity label\n",
    "\t\tflattened_data[1,d*1440+m]= Data[d,m*60,21] # Resident-2 activity label\n",
    "    \n",
    "f1 = open('House_B_flattened_activity.csv', 'w', newline='')\n",
    "with f1:\n",
    "    writer = csv.writer(f1)\n",
    "    writer.writerows(flattened_data)    "
   ]
  }
 ],
 "metadata": {
  "colab": {
   "collapsed_sections": [],
   "name": "hospital_rank_a2c.ipynb",
   "provenance": []
  },
  "kernelspec": {
   "display_name": "Python 3",
   "language": "python",
   "name": "python3"
  },
  "language_info": {
   "codemirror_mode": {
    "name": "ipython",
    "version": 3
   },
   "file_extension": ".py",
   "mimetype": "text/x-python",
   "name": "python",
   "nbconvert_exporter": "python",
   "pygments_lexer": "ipython3",
   "version": "3.6.8"
  }
 },
 "nbformat": 4,
 "nbformat_minor": 1
}
